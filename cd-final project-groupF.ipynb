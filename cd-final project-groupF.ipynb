{
 "cells": [
  {
   "cell_type": "markdown",
   "id": "87daa8c1",
   "metadata": {},
   "source": [
    "1.Introduction and Background"
   ]
  },
  {
   "cell_type": "markdown",
   "id": "848e6645",
   "metadata": {},
   "source": [
    "\n",
    "\n",
    "\n",
    "\n",
    "\n",
    "When we talk about humanities, literature and literary theories are always the first to be mentioned as an important carrier of humanistic ideas. And in the current period of rapid development of the Internet, what topics are generally being studied in academic journals about literature? In order to explore this question, we decided to conduct a textual analysis of academic journals on literature for the whole year just past 2023. Due to the more stringent copyright restrictions on journals, we chose to download open-source journals based on the Scopus database. Also, since English is the most widely spoken language and has the largest number of journal articles written in English, we chose to limit the language used in the journals to English in order to find a more generalised answer.\n",
    "\n",
    "\n",
    "Therefore, in this final project, we focus on journal articles within the scope of Literature and Literary theory from the Scopus database. There is our research question: Analyze the trends and preferences in topic selection of English literature journals on Scopus in the year 2023.\n",
    "\n",
    "\n",
    "\n",
    "\n",
    "\n"
   ]
  },
  {
   "cell_type": "markdown",
   "id": "441deec6",
   "metadata": {},
   "source": [
    "![Image Alt Text](image.png)\n"
   ]
  },
  {
   "cell_type": "markdown",
   "id": "a4d819f5",
   "metadata": {},
   "source": [
    "As you will see, our final group project look into the preferences and trends in journal topic selection, specifically targeting English-language literary journal articles in the Literature category on Scopus for the year 2023. We downloaded all the open-source English-language literary journal articles from the official Scopus website and scraped the articles into txt documents. This document cleaning provides accurate and convenient text data for further subsequent data processing and analysis. \n",
    "\n",
    "To help viewers better understand and learn the whole process of our project, our final group project is divided into three parts: 1:introduction and background；2:tutorials, 3:active learning exercises."
   ]
  },
  {
   "cell_type": "markdown",
   "id": "6c74f29b",
   "metadata": {},
   "source": [
    "The goal of our project is to clarify a research question:What are the preferences of diverse English-language literature journals in Scopus for the year 2023?"
   ]
  },
  {
   "cell_type": "markdown",
   "id": "573ee5c7",
   "metadata": {},
   "source": [
    "2.Tutorials"
   ]
  },
  {
   "cell_type": "markdown",
   "id": "5e3c76b6",
   "metadata": {},
   "source": [
    "(1) Collecting data"
   ]
  },
  {
   "cell_type": "markdown",
   "id": "98d489bc",
   "metadata": {},
   "source": [
    "According to RQ, we chose to download all open access English journals published in 2023 from the Scopus database and classified under the Literature and literary theory category, a total of 1072 papers.It's worth noting that these papers are in pdf format now."
   ]
  },
  {
   "cell_type": "markdown",
   "id": "b0a3f863",
   "metadata": {},
   "source": [
    "(2) Scrape all the pdf journal articles into txt files "
   ]
  },
  {
   "cell_type": "markdown",
   "id": "56c9c2ea",
   "metadata": {},
   "source": [
    "a) write the functions to load all the tools."
   ]
  },
  {
   "cell_type": "code",
   "execution_count": null,
   "id": "1f151a7f",
   "metadata": {},
   "outputs": [],
   "source": [
    "%pip install spaCy\n",
    "%pip install plotly"
   ]
  },
  {
   "cell_type": "code",
   "execution_count": 1,
   "id": "b6edb9d5",
   "metadata": {},
   "outputs": [
    {
     "name": "stderr",
     "output_type": "stream",
     "text": [
      "'spacy' 不是内部或外部命令，也不是可运行的程序\n",
      "或批处理文件。\n"
     ]
    }
   ],
   "source": [
    "import spacy\n",
    "!spacy download en_core_web_sm\n",
    "import os\n",
    "from spacy import displacy\n",
    "import pandas as pd\n",
    "pd.options.mode.chained_assignment = None \n",
    "import plotly.graph_objects as go\n",
    "import plotly.express as px"
   ]
  },
  {
   "cell_type": "markdown",
   "id": "5f44ed57",
   "metadata": {},
   "source": [
    "b) write the function to load pyPDF2."
   ]
  },
  {
   "cell_type": "code",
   "execution_count": 2,
   "id": "8cd8be43",
   "metadata": {},
   "outputs": [],
   "source": [
    "#pip install PyPDF2"
   ]
  },
  {
   "cell_type": "markdown",
   "id": "adeacc4b",
   "metadata": {},
   "source": [
    "c)write the functions to transfer all the pdf into txt files"
   ]
  },
  {
   "cell_type": "code",
   "execution_count": 3,
   "id": "32d0b8b6",
   "metadata": {},
   "outputs": [],
   "source": [
    "#import PyPDF2\n",
    "\n",
    "#pdf_file_path = 'your_pdf_file.pdf'\n",
    "#txt_file_path = 'output_text_file.txt'\n",
    "\n",
    "# Open PDF\n",
    "#with open(pdf_file_path, 'rb') as file:\n",
    "    #reader = PyPDF2.PdfFileReader(file)\n",
    "    \n",
    "    # Read every page\n",
    "    #text = ''\n",
    "    #for page in range(reader.numPages):\n",
    "        #text += reader.getPage(page).extractText()\n",
    "\n",
    "#with open(txt_file_path, 'w') as file:\n",
    "    #file.write(text)\n",
    "\n",
    "#print(\"PDF have transferred into TXT\")"
   ]
  },
  {
   "cell_type": "markdown",
   "id": "e4431380",
   "metadata": {},
   "source": [
    "Finally, we can check the documents in our folder, to ensure all the PDF files are in txt format. In this research, we have already done this step, you can use the txt directly."
   ]
  },
  {
   "cell_type": "markdown",
   "id": "b80c1624",
   "metadata": {},
   "source": [
    "(3) Managing data"
   ]
  },
  {
   "cell_type": "markdown",
   "id": "038c213b",
   "metadata": {},
   "source": [
    "After converting the open acess English papers downloaded from Scopus into txt format, we put the txt texts of articles with cited scores of 0-0.1, 01-0.3 and 0.3 or above all together to clean the text and achieve tokenization of the text."
   ]
  },
  {
   "cell_type": "markdown",
   "id": "0f7484f6",
   "metadata": {},
   "source": [
    "During this part spaCy is used for tokenization, or the segmentation of strings into individual words and punctuation markers. Tokenization enables spaCy to parse the grammatical structures of a text and identify characteristics of each word-like part-of-speech.\n",
    "\n",
    "\n",
    "1.Installing, Importing and Preprocessing"
   ]
  },
  {
   "cell_type": "markdown",
   "id": "58c595cf",
   "metadata": {},
   "source": [
    "a) The code reads all text files from a target directory, storing the contents and file names in two separate lists for subsequent analysis."
   ]
  },
  {
   "cell_type": "code",
   "execution_count": 4,
   "id": "3103bebf",
   "metadata": {},
   "outputs": [],
   "source": [
    "texts = []\n",
    "file_names = []\n",
    "\n",
    "# Iterate through each file in the folder\n",
    "for _file_name in os.listdir('D:\\CDfinal'):\n",
    "# Look for only text files\n",
    "    if _file_name.endswith('.txt'):\n",
    "    # Append contents of each text file to text list\n",
    "        texts.append(open('D:\\CDfinal' + '/' + _file_name, 'r', encoding='utf-8').read())\n",
    "        # Append name of each file to file name list\n",
    "        file_names.append(_file_name)"
   ]
  },
  {
   "cell_type": "markdown",
   "id": "32f91b82",
   "metadata": {},
   "source": [
    "b) Create a dictionary and convert it into a Pandas DataFrame."
   ]
  },
  {
   "cell_type": "code",
   "execution_count": 5,
   "id": "055b4265",
   "metadata": {},
   "outputs": [],
   "source": [
    "# Create dictionary object associating each file name with its text\n",
    "d = {'Filename':file_names,'Text':texts}\n",
    "# Turn dictionary into a dataframe\n",
    "journal_df = pd.DataFrame(d)"
   ]
  },
  {
   "cell_type": "markdown",
   "id": "78979cdb",
   "metadata": {},
   "source": [
    "c) Turn dictionary into a dataframe"
   ]
  },
  {
   "cell_type": "code",
   "execution_count": 6,
   "id": "84dd87cb",
   "metadata": {},
   "outputs": [],
   "source": [
    "# Turn dictionary into a dataframe\n",
    "journal_df = pd.DataFrame(d)"
   ]
  },
  {
   "cell_type": "markdown",
   "id": "ecfc8029",
   "metadata": {},
   "source": [
    "d) Display the first five rows of the DataFrame named ’journal_d‘"
   ]
  },
  {
   "cell_type": "code",
   "execution_count": 7,
   "id": "37191685",
   "metadata": {},
   "outputs": [
    {
     "data": {
      "text/html": [
       "<div>\n",
       "<style scoped>\n",
       "    .dataframe tbody tr th:only-of-type {\n",
       "        vertical-align: middle;\n",
       "    }\n",
       "\n",
       "    .dataframe tbody tr th {\n",
       "        vertical-align: top;\n",
       "    }\n",
       "\n",
       "    .dataframe thead th {\n",
       "        text-align: right;\n",
       "    }\n",
       "</style>\n",
       "<table border=\"1\" class=\"dataframe\">\n",
       "  <thead>\n",
       "    <tr style=\"text-align: right;\">\n",
       "      <th></th>\n",
       "      <th>Filename</th>\n",
       "      <th>Text</th>\n",
       "    </tr>\n",
       "  </thead>\n",
       "  <tbody>\n",
       "    <tr>\n",
       "      <th>0</th>\n",
       "      <td>A-BirdsEye-View-over-Sydney-Animal-Imagery-in-...</td>\n",
       "      <td>Alicante Journal of English Studies, Issue 38,...</td>\n",
       "    </tr>\n",
       "    <tr>\n",
       "      <th>1</th>\n",
       "      <td>A-Brief-History-of-the-Theory-and-Practice-of-...</td>\n",
       "      <td>e-ISSN \\n2724-3923\\nmagazén\\nVol. 1 – Num. 2 –...</td>\n",
       "    </tr>\n",
       "    <tr>\n",
       "      <th>2</th>\n",
       "      <td>A-Comparative-Study-of-the-Anthropocene-Factor...</td>\n",
       "      <td>Full Terms &amp; Conditions of access and use can ...</td>\n",
       "    </tr>\n",
       "    <tr>\n",
       "      <th>3</th>\n",
       "      <td>A-Comparison-of-English-Acehnese-and-Indonesia...</td>\n",
       "      <td>1146 | Studies in English Language and Educati...</td>\n",
       "    </tr>\n",
       "    <tr>\n",
       "      <th>4</th>\n",
       "      <td>A-Comparison-of-Nishidas-basho-from-his-Middle...</td>\n",
       "      <td>71\\nDOI: 10.4312/as.2023.11.1.71-90\\nA Compari...</td>\n",
       "    </tr>\n",
       "  </tbody>\n",
       "</table>\n",
       "</div>"
      ],
      "text/plain": [
       "                                            Filename  \\\n",
       "0  A-BirdsEye-View-over-Sydney-Animal-Imagery-in-...   \n",
       "1  A-Brief-History-of-the-Theory-and-Practice-of-...   \n",
       "2  A-Comparative-Study-of-the-Anthropocene-Factor...   \n",
       "3  A-Comparison-of-English-Acehnese-and-Indonesia...   \n",
       "4  A-Comparison-of-Nishidas-basho-from-his-Middle...   \n",
       "\n",
       "                                                Text  \n",
       "0  Alicante Journal of English Studies, Issue 38,...  \n",
       "1  e-ISSN \\n2724-3923\\nmagazén\\nVol. 1 – Num. 2 –...  \n",
       "2  Full Terms & Conditions of access and use can ...  \n",
       "3  1146 | Studies in English Language and Educati...  \n",
       "4  71\\nDOI: 10.4312/as.2023.11.1.71-90\\nA Compari...  "
      ]
     },
     "execution_count": 7,
     "metadata": {},
     "output_type": "execute_result"
    }
   ],
   "source": [
    "journal_df.head()"
   ]
  },
  {
   "cell_type": "markdown",
   "id": "300febc8",
   "metadata": {},
   "source": [
    "e) Remove extra spaces"
   ]
  },
  {
   "cell_type": "code",
   "execution_count": 8,
   "id": "ecc09762",
   "metadata": {},
   "outputs": [
    {
     "data": {
      "text/html": [
       "<div>\n",
       "<style scoped>\n",
       "    .dataframe tbody tr th:only-of-type {\n",
       "        vertical-align: middle;\n",
       "    }\n",
       "\n",
       "    .dataframe tbody tr th {\n",
       "        vertical-align: top;\n",
       "    }\n",
       "\n",
       "    .dataframe thead th {\n",
       "        text-align: right;\n",
       "    }\n",
       "</style>\n",
       "<table border=\"1\" class=\"dataframe\">\n",
       "  <thead>\n",
       "    <tr style=\"text-align: right;\">\n",
       "      <th></th>\n",
       "      <th>Filename</th>\n",
       "      <th>Text</th>\n",
       "    </tr>\n",
       "  </thead>\n",
       "  <tbody>\n",
       "    <tr>\n",
       "      <th>0</th>\n",
       "      <td>A-BirdsEye-View-over-Sydney-Animal-Imagery-in-...</td>\n",
       "      <td>Alicante Journal of English Studies, Issue 38,...</td>\n",
       "    </tr>\n",
       "    <tr>\n",
       "      <th>1</th>\n",
       "      <td>A-Brief-History-of-the-Theory-and-Practice-of-...</td>\n",
       "      <td>e-ISSN 2724-3923 magazén Vol. 1 – Num. 2 – Dec...</td>\n",
       "    </tr>\n",
       "    <tr>\n",
       "      <th>2</th>\n",
       "      <td>A-Comparative-Study-of-the-Anthropocene-Factor...</td>\n",
       "      <td>Full Terms &amp; Conditions of access and use can ...</td>\n",
       "    </tr>\n",
       "    <tr>\n",
       "      <th>3</th>\n",
       "      <td>A-Comparison-of-English-Acehnese-and-Indonesia...</td>\n",
       "      <td>1146 | Studies in English Language and Educati...</td>\n",
       "    </tr>\n",
       "    <tr>\n",
       "      <th>4</th>\n",
       "      <td>A-Comparison-of-Nishidas-basho-from-his-Middle...</td>\n",
       "      <td>71 DOI: 10.4312/as.2023.11.1.71-90 A Compariso...</td>\n",
       "    </tr>\n",
       "  </tbody>\n",
       "</table>\n",
       "</div>"
      ],
      "text/plain": [
       "                                            Filename  \\\n",
       "0  A-BirdsEye-View-over-Sydney-Animal-Imagery-in-...   \n",
       "1  A-Brief-History-of-the-Theory-and-Practice-of-...   \n",
       "2  A-Comparative-Study-of-the-Anthropocene-Factor...   \n",
       "3  A-Comparison-of-English-Acehnese-and-Indonesia...   \n",
       "4  A-Comparison-of-Nishidas-basho-from-his-Middle...   \n",
       "\n",
       "                                                Text  \n",
       "0  Alicante Journal of English Studies, Issue 38,...  \n",
       "1  e-ISSN 2724-3923 magazén Vol. 1 – Num. 2 – Dec...  \n",
       "2  Full Terms & Conditions of access and use can ...  \n",
       "3  1146 | Studies in English Language and Educati...  \n",
       "4  71 DOI: 10.4312/as.2023.11.1.71-90 A Compariso...  "
      ]
     },
     "execution_count": 8,
     "metadata": {},
     "output_type": "execute_result"
    }
   ],
   "source": [
    "# Remove extra spaces from papers\n",
    "journal_df['Text'] = journal_df['Text'].str.replace('\\s+', ' ', regex=True).str.strip()\n",
    "journal_df.head()"
   ]
  },
  {
   "cell_type": "markdown",
   "id": "304a1e2a",
   "metadata": {},
   "source": [
    "f) Remove .txt from title of each article"
   ]
  },
  {
   "cell_type": "code",
   "execution_count": 9,
   "id": "c1c85e6e",
   "metadata": {},
   "outputs": [],
   "source": [
    "# Remove .txt from title of each paper\n",
    "journal_df['Filename'] = journal_df['Filename'].str.replace('.txt', '', regex=True)"
   ]
  },
  {
   "cell_type": "markdown",
   "id": "e8a511a0",
   "metadata": {},
   "source": [
    "Let's check the head of the DataFrame again to confirm everything has worked well."
   ]
  },
  {
   "cell_type": "markdown",
   "id": "64648c4f",
   "metadata": {},
   "source": [
    "g) Display the first five rows of the DataFrame named ’journal_df‘"
   ]
  },
  {
   "cell_type": "code",
   "execution_count": 11,
   "id": "73b6c8a8",
   "metadata": {},
   "outputs": [
    {
     "data": {
      "text/html": [
       "<div>\n",
       "<style scoped>\n",
       "    .dataframe tbody tr th:only-of-type {\n",
       "        vertical-align: middle;\n",
       "    }\n",
       "\n",
       "    .dataframe tbody tr th {\n",
       "        vertical-align: top;\n",
       "    }\n",
       "\n",
       "    .dataframe thead th {\n",
       "        text-align: right;\n",
       "    }\n",
       "</style>\n",
       "<table border=\"1\" class=\"dataframe\">\n",
       "  <thead>\n",
       "    <tr style=\"text-align: right;\">\n",
       "      <th></th>\n",
       "      <th>Filename</th>\n",
       "      <th>Text</th>\n",
       "    </tr>\n",
       "  </thead>\n",
       "  <tbody>\n",
       "    <tr>\n",
       "      <th>0</th>\n",
       "      <td>A-BirdsEye-View-over-Sydney-Animal-Imagery-in-...</td>\n",
       "      <td>Alicante Journal of English Studies, Issue 38,...</td>\n",
       "    </tr>\n",
       "    <tr>\n",
       "      <th>1</th>\n",
       "      <td>A-Brief-History-of-the-Theory-and-Practice-of-...</td>\n",
       "      <td>e-ISSN 2724-3923 magazén Vol. 1 – Num. 2 – Dec...</td>\n",
       "    </tr>\n",
       "    <tr>\n",
       "      <th>2</th>\n",
       "      <td>A-Comparative-Study-of-the-Anthropocene-Factor...</td>\n",
       "      <td>Full Terms &amp; Conditions of access and use can ...</td>\n",
       "    </tr>\n",
       "    <tr>\n",
       "      <th>3</th>\n",
       "      <td>A-Comparison-of-English-Acehnese-and-Indonesia...</td>\n",
       "      <td>1146 | Studies in English Language and Educati...</td>\n",
       "    </tr>\n",
       "    <tr>\n",
       "      <th>4</th>\n",
       "      <td>A-Comparison-of-Nishidas-basho-from-his-Middle...</td>\n",
       "      <td>71 DOI: 10.4312/as.2023.11.1.71-90 A Compariso...</td>\n",
       "    </tr>\n",
       "  </tbody>\n",
       "</table>\n",
       "</div>"
      ],
      "text/plain": [
       "                                            Filename  \\\n",
       "0  A-BirdsEye-View-over-Sydney-Animal-Imagery-in-...   \n",
       "1  A-Brief-History-of-the-Theory-and-Practice-of-...   \n",
       "2  A-Comparative-Study-of-the-Anthropocene-Factor...   \n",
       "3  A-Comparison-of-English-Acehnese-and-Indonesia...   \n",
       "4  A-Comparison-of-Nishidas-basho-from-his-Middle...   \n",
       "\n",
       "                                                Text  \n",
       "0  Alicante Journal of English Studies, Issue 38,...  \n",
       "1  e-ISSN 2724-3923 magazén Vol. 1 – Num. 2 – Dec...  \n",
       "2  Full Terms & Conditions of access and use can ...  \n",
       "3  1146 | Studies in English Language and Educati...  \n",
       "4  71 DOI: 10.4312/as.2023.11.1.71-90 A Compariso...  "
      ]
     },
     "execution_count": 11,
     "metadata": {},
     "output_type": "execute_result"
    }
   ],
   "source": [
    "# Print DataFrame\n",
    "journal_df.head()"
   ]
  },
  {
   "cell_type": "markdown",
   "id": "2366969c",
   "metadata": {},
   "source": [
    "Now the resulting DataFrame is now ready for analysis."
   ]
  },
  {
   "cell_type": "markdown",
   "id": "b16e4605",
   "metadata": {},
   "source": [
    "(4) Tokenization"
   ]
  },
  {
   "cell_type": "markdown",
   "id": "f7786925",
   "metadata": {},
   "source": [
    "We want the dataframe presents some columns we want for better subsequent analysis. So we added two columns \"title\" and \"department\"."
   ]
  },
  {
   "cell_type": "code",
   "execution_count": 13,
   "id": "3e5caf33",
   "metadata": {},
   "outputs": [
    {
     "data": {
      "text/html": [
       "<div>\n",
       "<style scoped>\n",
       "    .dataframe tbody tr th:only-of-type {\n",
       "        vertical-align: middle;\n",
       "    }\n",
       "\n",
       "    .dataframe tbody tr th {\n",
       "        vertical-align: top;\n",
       "    }\n",
       "\n",
       "    .dataframe thead th {\n",
       "        text-align: right;\n",
       "    }\n",
       "</style>\n",
       "<table border=\"1\" class=\"dataframe\">\n",
       "  <thead>\n",
       "    <tr style=\"text-align: right;\">\n",
       "      <th></th>\n",
       "      <th>Filename</th>\n",
       "      <th>Text</th>\n",
       "      <th>title</th>\n",
       "      <th>department</th>\n",
       "    </tr>\n",
       "  </thead>\n",
       "  <tbody>\n",
       "    <tr>\n",
       "      <th>0</th>\n",
       "      <td>A-BirdsEye-View-over-Sydney-Animal-Imagery-in-...</td>\n",
       "      <td>Alicante Journal of English Studies, Issue 38,...</td>\n",
       "      <td>A BirdsEye View over Sydney Animal Imagery in ...</td>\n",
       "      <td>_Universidad de Alicante</td>\n",
       "    </tr>\n",
       "    <tr>\n",
       "      <th>1</th>\n",
       "      <td>A-Brief-History-of-the-Theory-and-Practice-of-...</td>\n",
       "      <td>e-ISSN 2724-3923 magazén Vol. 1 – Num. 2 – Dec...</td>\n",
       "      <td>A Brief History of the Theory and Practice of ...</td>\n",
       "      <td>None</td>\n",
       "    </tr>\n",
       "    <tr>\n",
       "      <th>2</th>\n",
       "      <td>A-Comparative-Study-of-the-Anthropocene-Factor...</td>\n",
       "      <td>Full Terms &amp; Conditions of access and use can ...</td>\n",
       "      <td>A Comparative Study of the Anthropocene Factor...</td>\n",
       "      <td>_Informa Healthcare</td>\n",
       "    </tr>\n",
       "    <tr>\n",
       "      <th>3</th>\n",
       "      <td>A-Comparison-of-English-Acehnese-and-Indonesia...</td>\n",
       "      <td>1146 | Studies in English Language and Educati...</td>\n",
       "      <td>A Comparison of English Acehnese and Indonesia...</td>\n",
       "      <td>_Syiah Kuala University</td>\n",
       "    </tr>\n",
       "    <tr>\n",
       "      <th>4</th>\n",
       "      <td>A-Comparison-of-Nishidas-basho-from-his-Middle...</td>\n",
       "      <td>71 DOI: 10.4312/as.2023.11.1.71-90 A Compariso...</td>\n",
       "      <td>A Comparison of Nishidas basho from his Middle...</td>\n",
       "      <td>_University of Ljubljana Press</td>\n",
       "    </tr>\n",
       "  </tbody>\n",
       "</table>\n",
       "</div>"
      ],
      "text/plain": [
       "                                            Filename  \\\n",
       "0  A-BirdsEye-View-over-Sydney-Animal-Imagery-in-...   \n",
       "1  A-Brief-History-of-the-Theory-and-Practice-of-...   \n",
       "2  A-Comparative-Study-of-the-Anthropocene-Factor...   \n",
       "3  A-Comparison-of-English-Acehnese-and-Indonesia...   \n",
       "4  A-Comparison-of-Nishidas-basho-from-his-Middle...   \n",
       "\n",
       "                                                Text  \\\n",
       "0  Alicante Journal of English Studies, Issue 38,...   \n",
       "1  e-ISSN 2724-3923 magazén Vol. 1 – Num. 2 – Dec...   \n",
       "2  Full Terms & Conditions of access and use can ...   \n",
       "3  1146 | Studies in English Language and Educati...   \n",
       "4  71 DOI: 10.4312/as.2023.11.1.71-90 A Compariso...   \n",
       "\n",
       "                                               title  \\\n",
       "0  A BirdsEye View over Sydney Animal Imagery in ...   \n",
       "1  A Brief History of the Theory and Practice of ...   \n",
       "2  A Comparative Study of the Anthropocene Factor...   \n",
       "3  A Comparison of English Acehnese and Indonesia...   \n",
       "4  A Comparison of Nishidas basho from his Middle...   \n",
       "\n",
       "                       department  \n",
       "0        _Universidad de Alicante  \n",
       "1                            None  \n",
       "2             _Informa Healthcare  \n",
       "3         _Syiah Kuala University  \n",
       "4  _University of Ljubljana Press  "
      ]
     },
     "execution_count": 13,
     "metadata": {},
     "output_type": "execute_result"
    }
   ],
   "source": [
    "def split_and_create_journal_columns(Filename):\n",
    "    \"\"\"\n",
    "    Split a filename based on '2023' and create 'title' and 'department' columns.\n",
    "\n",
    "    Parameters:\n",
    "    - Filename (str): Input filename containing '2023'.\n",
    "\n",
    "    Returns:\n",
    "    - pd.Series: Pandas Series with 'title' and 'department' columns.\n",
    "    \"\"\"\n",
    "    # Split the filename based on '2023'\n",
    "    parts = Filename.split('2023', 1)\n",
    "    \n",
    "    # Extract 'title' and 'department', replacing '-' with whitespace\n",
    "    title = parts[0].strip().replace('-', ' ')\n",
    "    department = parts[1].strip().replace('-', ' ') if len(parts) > 1 else None\n",
    "    \n",
    "    return pd.Series({'title': title, 'department': department})\n",
    "\n",
    "# Apply the function to the 'filename' column to create new 'title' and 'department' columns\n",
    "journal_df[['title', 'department']] = journal_df['Filename'].apply(split_and_create_journal_columns)\n",
    "\n",
    "# Print the resulting DataFrame\n",
    "journal_df.head()"
   ]
  },
  {
   "cell_type": "code",
   "execution_count": 14,
   "id": "67eb66b0",
   "metadata": {},
   "outputs": [
    {
     "name": "stderr",
     "output_type": "stream",
     "text": [
      "C:\\Users\\cathy\\AppData\\Local\\Temp\\ipykernel_32568\\4031396688.py:1: FutureWarning: The default value of regex will change from True to False in a future version.\n",
      "  journal_df['department'] = journal_df['department'].str.replace('_', ' ').str.replace('.txt', '')\n"
     ]
    }
   ],
   "source": [
    "journal_df['department'] = journal_df['department'].str.replace('_', ' ').str.replace('.txt', '')"
   ]
  },
  {
   "cell_type": "markdown",
   "id": "66367082",
   "metadata": {},
   "source": [
    "a) Use .head( ) to check the result ."
   ]
  },
  {
   "cell_type": "code",
   "execution_count": 15,
   "id": "9280c11d",
   "metadata": {},
   "outputs": [
    {
     "data": {
      "text/html": [
       "<div>\n",
       "<style scoped>\n",
       "    .dataframe tbody tr th:only-of-type {\n",
       "        vertical-align: middle;\n",
       "    }\n",
       "\n",
       "    .dataframe tbody tr th {\n",
       "        vertical-align: top;\n",
       "    }\n",
       "\n",
       "    .dataframe thead th {\n",
       "        text-align: right;\n",
       "    }\n",
       "</style>\n",
       "<table border=\"1\" class=\"dataframe\">\n",
       "  <thead>\n",
       "    <tr style=\"text-align: right;\">\n",
       "      <th></th>\n",
       "      <th>Filename</th>\n",
       "      <th>Text</th>\n",
       "      <th>title</th>\n",
       "      <th>department</th>\n",
       "    </tr>\n",
       "  </thead>\n",
       "  <tbody>\n",
       "    <tr>\n",
       "      <th>0</th>\n",
       "      <td>A-BirdsEye-View-over-Sydney-Animal-Imagery-in-...</td>\n",
       "      <td>Alicante Journal of English Studies, Issue 38,...</td>\n",
       "      <td>A BirdsEye View over Sydney Animal Imagery in ...</td>\n",
       "      <td>Universidad de Alicante</td>\n",
       "    </tr>\n",
       "    <tr>\n",
       "      <th>1</th>\n",
       "      <td>A-Brief-History-of-the-Theory-and-Practice-of-...</td>\n",
       "      <td>e-ISSN 2724-3923 magazén Vol. 1 – Num. 2 – Dec...</td>\n",
       "      <td>A Brief History of the Theory and Practice of ...</td>\n",
       "      <td>None</td>\n",
       "    </tr>\n",
       "    <tr>\n",
       "      <th>2</th>\n",
       "      <td>A-Comparative-Study-of-the-Anthropocene-Factor...</td>\n",
       "      <td>Full Terms &amp; Conditions of access and use can ...</td>\n",
       "      <td>A Comparative Study of the Anthropocene Factor...</td>\n",
       "      <td>Informa Healthcare</td>\n",
       "    </tr>\n",
       "    <tr>\n",
       "      <th>3</th>\n",
       "      <td>A-Comparison-of-English-Acehnese-and-Indonesia...</td>\n",
       "      <td>1146 | Studies in English Language and Educati...</td>\n",
       "      <td>A Comparison of English Acehnese and Indonesia...</td>\n",
       "      <td>Syiah Kuala University</td>\n",
       "    </tr>\n",
       "    <tr>\n",
       "      <th>4</th>\n",
       "      <td>A-Comparison-of-Nishidas-basho-from-his-Middle...</td>\n",
       "      <td>71 DOI: 10.4312/as.2023.11.1.71-90 A Compariso...</td>\n",
       "      <td>A Comparison of Nishidas basho from his Middle...</td>\n",
       "      <td>University of Ljubljana Press</td>\n",
       "    </tr>\n",
       "  </tbody>\n",
       "</table>\n",
       "</div>"
      ],
      "text/plain": [
       "                                            Filename  \\\n",
       "0  A-BirdsEye-View-over-Sydney-Animal-Imagery-in-...   \n",
       "1  A-Brief-History-of-the-Theory-and-Practice-of-...   \n",
       "2  A-Comparative-Study-of-the-Anthropocene-Factor...   \n",
       "3  A-Comparison-of-English-Acehnese-and-Indonesia...   \n",
       "4  A-Comparison-of-Nishidas-basho-from-his-Middle...   \n",
       "\n",
       "                                                Text  \\\n",
       "0  Alicante Journal of English Studies, Issue 38,...   \n",
       "1  e-ISSN 2724-3923 magazén Vol. 1 – Num. 2 – Dec...   \n",
       "2  Full Terms & Conditions of access and use can ...   \n",
       "3  1146 | Studies in English Language and Educati...   \n",
       "4  71 DOI: 10.4312/as.2023.11.1.71-90 A Compariso...   \n",
       "\n",
       "                                               title  \\\n",
       "0  A BirdsEye View over Sydney Animal Imagery in ...   \n",
       "1  A Brief History of the Theory and Practice of ...   \n",
       "2  A Comparative Study of the Anthropocene Factor...   \n",
       "3  A Comparison of English Acehnese and Indonesia...   \n",
       "4  A Comparison of Nishidas basho from his Middle...   \n",
       "\n",
       "                       department  \n",
       "0         Universidad de Alicante  \n",
       "1                            None  \n",
       "2              Informa Healthcare  \n",
       "3          Syiah Kuala University  \n",
       "4   University of Ljubljana Press  "
      ]
     },
     "execution_count": 15,
     "metadata": {},
     "output_type": "execute_result"
    }
   ],
   "source": [
    "journal_df.head()"
   ]
  },
  {
   "cell_type": "markdown",
   "id": "10392fdf",
   "metadata": {},
   "source": [
    "b) Besides, we want the dataframe contains Digital Object Identifier（DOI） of each paper."
   ]
  },
  {
   "cell_type": "code",
   "execution_count": 16,
   "id": "7e0efc75",
   "metadata": {},
   "outputs": [
    {
     "data": {
      "text/html": [
       "<div>\n",
       "<style scoped>\n",
       "    .dataframe tbody tr th:only-of-type {\n",
       "        vertical-align: middle;\n",
       "    }\n",
       "\n",
       "    .dataframe tbody tr th {\n",
       "        vertical-align: top;\n",
       "    }\n",
       "\n",
       "    .dataframe thead th {\n",
       "        text-align: right;\n",
       "    }\n",
       "</style>\n",
       "<table border=\"1\" class=\"dataframe\">\n",
       "  <thead>\n",
       "    <tr style=\"text-align: right;\">\n",
       "      <th></th>\n",
       "      <th>Filename</th>\n",
       "      <th>Text</th>\n",
       "      <th>title</th>\n",
       "      <th>department</th>\n",
       "      <th>doi</th>\n",
       "    </tr>\n",
       "  </thead>\n",
       "  <tbody>\n",
       "    <tr>\n",
       "      <th>0</th>\n",
       "      <td>A-BirdsEye-View-over-Sydney-Animal-Imagery-in-...</td>\n",
       "      <td>Alicante Journal of English Studies, Issue 38,...</td>\n",
       "      <td>A BirdsEye View over Sydney Animal Imagery in ...</td>\n",
       "      <td>Universidad de Alicante</td>\n",
       "      <td>None</td>\n",
       "    </tr>\n",
       "    <tr>\n",
       "      <th>1</th>\n",
       "      <td>A-Brief-History-of-the-Theory-and-Practice-of-...</td>\n",
       "      <td>e-ISSN 2724-3923 magazén Vol. 1 – Num. 2 – Dec...</td>\n",
       "      <td>A Brief History of the Theory and Practice of ...</td>\n",
       "      <td>None</td>\n",
       "      <td>DOI 10.30687/mag/2724-3923/2020/02/002</td>\n",
       "    </tr>\n",
       "    <tr>\n",
       "      <th>2</th>\n",
       "      <td>A-Comparative-Study-of-the-Anthropocene-Factor...</td>\n",
       "      <td>Full Terms &amp; Conditions of access and use can ...</td>\n",
       "      <td>A Comparative Study of the Anthropocene Factor...</td>\n",
       "      <td>Informa Healthcare</td>\n",
       "      <td>DOI: 10.1080/25723618.2023.2237369</td>\n",
       "    </tr>\n",
       "    <tr>\n",
       "      <th>3</th>\n",
       "      <td>A-Comparison-of-English-Acehnese-and-Indonesia...</td>\n",
       "      <td>1146 | Studies in English Language and Educati...</td>\n",
       "      <td>A Comparison of English Acehnese and Indonesia...</td>\n",
       "      <td>Syiah Kuala University</td>\n",
       "      <td>None</td>\n",
       "    </tr>\n",
       "    <tr>\n",
       "      <th>4</th>\n",
       "      <td>A-Comparison-of-Nishidas-basho-from-his-Middle...</td>\n",
       "      <td>71 DOI: 10.4312/as.2023.11.1.71-90 A Compariso...</td>\n",
       "      <td>A Comparison of Nishidas basho from his Middle...</td>\n",
       "      <td>University of Ljubljana Press</td>\n",
       "      <td>DOI: 10.4312/as.2023.11.1.71-90</td>\n",
       "    </tr>\n",
       "    <tr>\n",
       "      <th>5</th>\n",
       "      <td>A-Contrastive-Analysis-of-Morphological-and-Sy...</td>\n",
       "      <td>403 | Studies in English Language and Educatio...</td>\n",
       "      <td>A Contrastive Analysis of Morphological and Sy...</td>\n",
       "      <td>Syiah Kuala University</td>\n",
       "      <td>None</td>\n",
       "    </tr>\n",
       "    <tr>\n",
       "      <th>6</th>\n",
       "      <td>A-Cormorant-of-Libraries-The-FuturePast-of-Sus...</td>\n",
       "      <td>European journal of American studies 19-1 | 20...</td>\n",
       "      <td>A Cormorant of Libraries The FuturePast of Sus...</td>\n",
       "      <td>European Association for American Studies</td>\n",
       "      <td>DOI: 10.4000/ejas.20878</td>\n",
       "    </tr>\n",
       "    <tr>\n",
       "      <th>7</th>\n",
       "      <td>A-CorpusAssisted-Critical-Discourse-Analysis-o...</td>\n",
       "      <td>3L: Language, Linguistics, Literature® The Sou...</td>\n",
       "      <td>A CorpusAssisted Critical Discourse Analysis o...</td>\n",
       "      <td>Penerbit Universiti Kebangsaan Malaysia</td>\n",
       "      <td>DOI: 10.24171/j.phrp.2021.0085</td>\n",
       "    </tr>\n",
       "    <tr>\n",
       "      <th>8</th>\n",
       "      <td>A-CorpusAssisted-Discourse-Analysis-Case-Study...</td>\n",
       "      <td>GEMA Online® Journal of Language Studies 34 Vo...</td>\n",
       "      <td>A CorpusAssisted Discourse Analysis Case Study...</td>\n",
       "      <td>Penerbit Universiti Kebangsaan Malaysia</td>\n",
       "      <td>doi:10.1177/1075547012459274</td>\n",
       "    </tr>\n",
       "    <tr>\n",
       "      <th>9</th>\n",
       "      <td>A-Corpusbased-Analysis-of-Frequently-Occurring...</td>\n",
       "      <td>3L: Language, Linguistics, Literature® The Sou...</td>\n",
       "      <td>A Corpusbased Analysis of Frequently Occurring...</td>\n",
       "      <td>Penerbit Universiti Kebangsaan Malaysia</td>\n",
       "      <td>None</td>\n",
       "    </tr>\n",
       "  </tbody>\n",
       "</table>\n",
       "</div>"
      ],
      "text/plain": [
       "                                            Filename  \\\n",
       "0  A-BirdsEye-View-over-Sydney-Animal-Imagery-in-...   \n",
       "1  A-Brief-History-of-the-Theory-and-Practice-of-...   \n",
       "2  A-Comparative-Study-of-the-Anthropocene-Factor...   \n",
       "3  A-Comparison-of-English-Acehnese-and-Indonesia...   \n",
       "4  A-Comparison-of-Nishidas-basho-from-his-Middle...   \n",
       "5  A-Contrastive-Analysis-of-Morphological-and-Sy...   \n",
       "6  A-Cormorant-of-Libraries-The-FuturePast-of-Sus...   \n",
       "7  A-CorpusAssisted-Critical-Discourse-Analysis-o...   \n",
       "8  A-CorpusAssisted-Discourse-Analysis-Case-Study...   \n",
       "9  A-Corpusbased-Analysis-of-Frequently-Occurring...   \n",
       "\n",
       "                                                Text  \\\n",
       "0  Alicante Journal of English Studies, Issue 38,...   \n",
       "1  e-ISSN 2724-3923 magazén Vol. 1 – Num. 2 – Dec...   \n",
       "2  Full Terms & Conditions of access and use can ...   \n",
       "3  1146 | Studies in English Language and Educati...   \n",
       "4  71 DOI: 10.4312/as.2023.11.1.71-90 A Compariso...   \n",
       "5  403 | Studies in English Language and Educatio...   \n",
       "6  European journal of American studies 19-1 | 20...   \n",
       "7  3L: Language, Linguistics, Literature® The Sou...   \n",
       "8  GEMA Online® Journal of Language Studies 34 Vo...   \n",
       "9  3L: Language, Linguistics, Literature® The Sou...   \n",
       "\n",
       "                                               title  \\\n",
       "0  A BirdsEye View over Sydney Animal Imagery in ...   \n",
       "1  A Brief History of the Theory and Practice of ...   \n",
       "2  A Comparative Study of the Anthropocene Factor...   \n",
       "3  A Comparison of English Acehnese and Indonesia...   \n",
       "4  A Comparison of Nishidas basho from his Middle...   \n",
       "5  A Contrastive Analysis of Morphological and Sy...   \n",
       "6  A Cormorant of Libraries The FuturePast of Sus...   \n",
       "7  A CorpusAssisted Critical Discourse Analysis o...   \n",
       "8  A CorpusAssisted Discourse Analysis Case Study...   \n",
       "9  A Corpusbased Analysis of Frequently Occurring...   \n",
       "\n",
       "                                   department  \\\n",
       "0                     Universidad de Alicante   \n",
       "1                                        None   \n",
       "2                          Informa Healthcare   \n",
       "3                      Syiah Kuala University   \n",
       "4               University of Ljubljana Press   \n",
       "5                      Syiah Kuala University   \n",
       "6   European Association for American Studies   \n",
       "7     Penerbit Universiti Kebangsaan Malaysia   \n",
       "8     Penerbit Universiti Kebangsaan Malaysia   \n",
       "9     Penerbit Universiti Kebangsaan Malaysia   \n",
       "\n",
       "                                      doi  \n",
       "0                                    None  \n",
       "1  DOI 10.30687/mag/2724-3923/2020/02/002  \n",
       "2      DOI: 10.1080/25723618.2023.2237369  \n",
       "3                                    None  \n",
       "4         DOI: 10.4312/as.2023.11.1.71-90  \n",
       "5                                    None  \n",
       "6                 DOI: 10.4000/ejas.20878  \n",
       "7          DOI: 10.24171/j.phrp.2021.0085  \n",
       "8            doi:10.1177/1075547012459274  \n",
       "9                                    None  "
      ]
     },
     "execution_count": 16,
     "metadata": {},
     "output_type": "execute_result"
    }
   ],
   "source": [
    "import re\n",
    "def extract_doi_from_text(Text):\n",
    "    \"\"\"\n",
    "    Extract DOI from a text using a regular expression.\n",
    "\n",
    "    Parameters:\n",
    "    - Text (str): Input text containing DOI.\n",
    "\n",
    "    Returns:\n",
    "    - str or None: Extracted DOI or None if not found.\n",
    "    \"\"\"\n",
    "    doi_match = re.search(r'\\bdoi:?\\s*10\\.\\S+', Text, flags=re.IGNORECASE)\n",
    "    return doi_match.group() if doi_match else None\n",
    "\n",
    "# Apply the function to the 'text' column to create a new 'doi' column\n",
    "journal_df['doi'] = journal_df['Text'].apply(extract_doi_from_text)\n",
    "\n",
    "# Print the resulting DataFrame\n",
    "journal_df.head(10)\n"
   ]
  },
  {
   "cell_type": "markdown",
   "id": "87a4f341",
   "metadata": {},
   "source": [
    "c) we clean the txt and make it a new column of our dataframe."
   ]
  },
  {
   "cell_type": "code",
   "execution_count": 17,
   "id": "1550e827",
   "metadata": {},
   "outputs": [],
   "source": [
    "def clean_text(Text):\n",
    "    # Remove special characters, digits, and punctuation\n",
    "    text = re.sub(r'[^a-zA-Z\\s]', '', Text)\n",
    "    # Convert to lowercase\n",
    "    text = text.lower()\n",
    "    # Remove newline characters\n",
    "    text = text.replace('\\n', ' ')\n",
    "    return text\n",
    "\n",
    "# Apply the clean_text function to the 'text' column to create a new 'cleaned_text' column\n",
    "journal_df['cleaned_text'] = journal_df['Text'].apply(clean_text)"
   ]
  },
  {
   "cell_type": "code",
   "execution_count": 18,
   "id": "63579ebf",
   "metadata": {},
   "outputs": [
    {
     "data": {
      "text/html": [
       "<div>\n",
       "<style scoped>\n",
       "    .dataframe tbody tr th:only-of-type {\n",
       "        vertical-align: middle;\n",
       "    }\n",
       "\n",
       "    .dataframe tbody tr th {\n",
       "        vertical-align: top;\n",
       "    }\n",
       "\n",
       "    .dataframe thead th {\n",
       "        text-align: right;\n",
       "    }\n",
       "</style>\n",
       "<table border=\"1\" class=\"dataframe\">\n",
       "  <thead>\n",
       "    <tr style=\"text-align: right;\">\n",
       "      <th></th>\n",
       "      <th>Filename</th>\n",
       "      <th>Text</th>\n",
       "      <th>title</th>\n",
       "      <th>department</th>\n",
       "      <th>doi</th>\n",
       "      <th>cleaned_text</th>\n",
       "    </tr>\n",
       "  </thead>\n",
       "  <tbody>\n",
       "    <tr>\n",
       "      <th>0</th>\n",
       "      <td>A-BirdsEye-View-over-Sydney-Animal-Imagery-in-...</td>\n",
       "      <td>Alicante Journal of English Studies, Issue 38,...</td>\n",
       "      <td>A BirdsEye View over Sydney Animal Imagery in ...</td>\n",
       "      <td>Universidad de Alicante</td>\n",
       "      <td>None</td>\n",
       "      <td>alicante journal of english studies issue   pa...</td>\n",
       "    </tr>\n",
       "    <tr>\n",
       "      <th>1</th>\n",
       "      <td>A-Brief-History-of-the-Theory-and-Practice-of-...</td>\n",
       "      <td>e-ISSN 2724-3923 magazén Vol. 1 – Num. 2 – Dec...</td>\n",
       "      <td>A Brief History of the Theory and Practice of ...</td>\n",
       "      <td>None</td>\n",
       "      <td>DOI 10.30687/mag/2724-3923/2020/02/002</td>\n",
       "      <td>eissn  magazn vol   num   december   citation ...</td>\n",
       "    </tr>\n",
       "    <tr>\n",
       "      <th>2</th>\n",
       "      <td>A-Comparative-Study-of-the-Anthropocene-Factor...</td>\n",
       "      <td>Full Terms &amp; Conditions of access and use can ...</td>\n",
       "      <td>A Comparative Study of the Anthropocene Factor...</td>\n",
       "      <td>Informa Healthcare</td>\n",
       "      <td>DOI: 10.1080/25723618.2023.2237369</td>\n",
       "      <td>full terms  conditions of access and use can b...</td>\n",
       "    </tr>\n",
       "    <tr>\n",
       "      <th>3</th>\n",
       "      <td>A-Comparison-of-English-Acehnese-and-Indonesia...</td>\n",
       "      <td>1146 | Studies in English Language and Educati...</td>\n",
       "      <td>A Comparison of English Acehnese and Indonesia...</td>\n",
       "      <td>Syiah Kuala University</td>\n",
       "      <td>None</td>\n",
       "      <td>studies in english language and education   ...</td>\n",
       "    </tr>\n",
       "    <tr>\n",
       "      <th>4</th>\n",
       "      <td>A-Comparison-of-Nishidas-basho-from-his-Middle...</td>\n",
       "      <td>71 DOI: 10.4312/as.2023.11.1.71-90 A Compariso...</td>\n",
       "      <td>A Comparison of Nishidas basho from his Middle...</td>\n",
       "      <td>University of Ljubljana Press</td>\n",
       "      <td>DOI: 10.4312/as.2023.11.1.71-90</td>\n",
       "      <td>doi as a comparison of nishidas basho from hi...</td>\n",
       "    </tr>\n",
       "    <tr>\n",
       "      <th>5</th>\n",
       "      <td>A-Contrastive-Analysis-of-Morphological-and-Sy...</td>\n",
       "      <td>403 | Studies in English Language and Educatio...</td>\n",
       "      <td>A Contrastive Analysis of Morphological and Sy...</td>\n",
       "      <td>Syiah Kuala University</td>\n",
       "      <td>None</td>\n",
       "      <td>studies in english language and education   ...</td>\n",
       "    </tr>\n",
       "    <tr>\n",
       "      <th>6</th>\n",
       "      <td>A-Cormorant-of-Libraries-The-FuturePast-of-Sus...</td>\n",
       "      <td>European journal of American studies 19-1 | 20...</td>\n",
       "      <td>A Cormorant of Libraries The FuturePast of Sus...</td>\n",
       "      <td>European Association for American Studies</td>\n",
       "      <td>DOI: 10.4000/ejas.20878</td>\n",
       "      <td>european journal of american studies    specia...</td>\n",
       "    </tr>\n",
       "    <tr>\n",
       "      <th>7</th>\n",
       "      <td>A-CorpusAssisted-Critical-Discourse-Analysis-o...</td>\n",
       "      <td>3L: Language, Linguistics, Literature® The Sou...</td>\n",
       "      <td>A CorpusAssisted Critical Discourse Analysis o...</td>\n",
       "      <td>Penerbit Universiti Kebangsaan Malaysia</td>\n",
       "      <td>DOI: 10.24171/j.phrp.2021.0085</td>\n",
       "      <td>l language linguistics literature the southeas...</td>\n",
       "    </tr>\n",
       "    <tr>\n",
       "      <th>8</th>\n",
       "      <td>A-CorpusAssisted-Discourse-Analysis-Case-Study...</td>\n",
       "      <td>GEMA Online® Journal of Language Studies 34 Vo...</td>\n",
       "      <td>A CorpusAssisted Discourse Analysis Case Study...</td>\n",
       "      <td>Penerbit Universiti Kebangsaan Malaysia</td>\n",
       "      <td>doi:10.1177/1075547012459274</td>\n",
       "      <td>gema online journal of language studies  volum...</td>\n",
       "    </tr>\n",
       "    <tr>\n",
       "      <th>9</th>\n",
       "      <td>A-Corpusbased-Analysis-of-Frequently-Occurring...</td>\n",
       "      <td>3L: Language, Linguistics, Literature® The Sou...</td>\n",
       "      <td>A Corpusbased Analysis of Frequently Occurring...</td>\n",
       "      <td>Penerbit Universiti Kebangsaan Malaysia</td>\n",
       "      <td>None</td>\n",
       "      <td>l language linguistics literature the southeas...</td>\n",
       "    </tr>\n",
       "  </tbody>\n",
       "</table>\n",
       "</div>"
      ],
      "text/plain": [
       "                                            Filename  \\\n",
       "0  A-BirdsEye-View-over-Sydney-Animal-Imagery-in-...   \n",
       "1  A-Brief-History-of-the-Theory-and-Practice-of-...   \n",
       "2  A-Comparative-Study-of-the-Anthropocene-Factor...   \n",
       "3  A-Comparison-of-English-Acehnese-and-Indonesia...   \n",
       "4  A-Comparison-of-Nishidas-basho-from-his-Middle...   \n",
       "5  A-Contrastive-Analysis-of-Morphological-and-Sy...   \n",
       "6  A-Cormorant-of-Libraries-The-FuturePast-of-Sus...   \n",
       "7  A-CorpusAssisted-Critical-Discourse-Analysis-o...   \n",
       "8  A-CorpusAssisted-Discourse-Analysis-Case-Study...   \n",
       "9  A-Corpusbased-Analysis-of-Frequently-Occurring...   \n",
       "\n",
       "                                                Text  \\\n",
       "0  Alicante Journal of English Studies, Issue 38,...   \n",
       "1  e-ISSN 2724-3923 magazén Vol. 1 – Num. 2 – Dec...   \n",
       "2  Full Terms & Conditions of access and use can ...   \n",
       "3  1146 | Studies in English Language and Educati...   \n",
       "4  71 DOI: 10.4312/as.2023.11.1.71-90 A Compariso...   \n",
       "5  403 | Studies in English Language and Educatio...   \n",
       "6  European journal of American studies 19-1 | 20...   \n",
       "7  3L: Language, Linguistics, Literature® The Sou...   \n",
       "8  GEMA Online® Journal of Language Studies 34 Vo...   \n",
       "9  3L: Language, Linguistics, Literature® The Sou...   \n",
       "\n",
       "                                               title  \\\n",
       "0  A BirdsEye View over Sydney Animal Imagery in ...   \n",
       "1  A Brief History of the Theory and Practice of ...   \n",
       "2  A Comparative Study of the Anthropocene Factor...   \n",
       "3  A Comparison of English Acehnese and Indonesia...   \n",
       "4  A Comparison of Nishidas basho from his Middle...   \n",
       "5  A Contrastive Analysis of Morphological and Sy...   \n",
       "6  A Cormorant of Libraries The FuturePast of Sus...   \n",
       "7  A CorpusAssisted Critical Discourse Analysis o...   \n",
       "8  A CorpusAssisted Discourse Analysis Case Study...   \n",
       "9  A Corpusbased Analysis of Frequently Occurring...   \n",
       "\n",
       "                                   department  \\\n",
       "0                     Universidad de Alicante   \n",
       "1                                        None   \n",
       "2                          Informa Healthcare   \n",
       "3                      Syiah Kuala University   \n",
       "4               University of Ljubljana Press   \n",
       "5                      Syiah Kuala University   \n",
       "6   European Association for American Studies   \n",
       "7     Penerbit Universiti Kebangsaan Malaysia   \n",
       "8     Penerbit Universiti Kebangsaan Malaysia   \n",
       "9     Penerbit Universiti Kebangsaan Malaysia   \n",
       "\n",
       "                                      doi  \\\n",
       "0                                    None   \n",
       "1  DOI 10.30687/mag/2724-3923/2020/02/002   \n",
       "2      DOI: 10.1080/25723618.2023.2237369   \n",
       "3                                    None   \n",
       "4         DOI: 10.4312/as.2023.11.1.71-90   \n",
       "5                                    None   \n",
       "6                 DOI: 10.4000/ejas.20878   \n",
       "7          DOI: 10.24171/j.phrp.2021.0085   \n",
       "8            doi:10.1177/1075547012459274   \n",
       "9                                    None   \n",
       "\n",
       "                                        cleaned_text  \n",
       "0  alicante journal of english studies issue   pa...  \n",
       "1  eissn  magazn vol   num   december   citation ...  \n",
       "2  full terms  conditions of access and use can b...  \n",
       "3    studies in english language and education   ...  \n",
       "4   doi as a comparison of nishidas basho from hi...  \n",
       "5    studies in english language and education   ...  \n",
       "6  european journal of american studies    specia...  \n",
       "7  l language linguistics literature the southeas...  \n",
       "8  gema online journal of language studies  volum...  \n",
       "9  l language linguistics literature the southeas...  "
      ]
     },
     "execution_count": 18,
     "metadata": {},
     "output_type": "execute_result"
    }
   ],
   "source": [
    "journal_df.head(10)"
   ]
  },
  {
   "cell_type": "markdown",
   "id": "6831b5cb",
   "metadata": {},
   "source": [
    "Once the dataframe is ready, you can start language processing."
   ]
  },
  {
   "cell_type": "markdown",
   "id": "a5160e3f",
   "metadata": {},
   "source": [
    "(5)  Language processing"
   ]
  },
  {
   "cell_type": "markdown",
   "id": "846b1474",
   "metadata": {},
   "source": [
    "The first step is to tokenize the text with NLP."
   ]
  },
  {
   "cell_type": "markdown",
   "id": "8a2d4c66",
   "metadata": {},
   "source": [
    "a) write functions to remove the stopwords"
   ]
  },
  {
   "cell_type": "code",
   "execution_count": 19,
   "id": "ca40432e",
   "metadata": {},
   "outputs": [
    {
     "name": "stderr",
     "output_type": "stream",
     "text": [
      "[nltk_data] Downloading package stopwords to\n",
      "[nltk_data]     C:\\Users\\cathy\\AppData\\Roaming\\nltk_data...\n",
      "[nltk_data]   Package stopwords is already up-to-date!\n",
      "[nltk_data] Downloading package punkt to\n",
      "[nltk_data]     C:\\Users\\cathy\\AppData\\Roaming\\nltk_data...\n",
      "[nltk_data]   Package punkt is already up-to-date!\n"
     ]
    },
    {
     "data": {
      "text/html": [
       "<div>\n",
       "<style scoped>\n",
       "    .dataframe tbody tr th:only-of-type {\n",
       "        vertical-align: middle;\n",
       "    }\n",
       "\n",
       "    .dataframe tbody tr th {\n",
       "        vertical-align: top;\n",
       "    }\n",
       "\n",
       "    .dataframe thead th {\n",
       "        text-align: right;\n",
       "    }\n",
       "</style>\n",
       "<table border=\"1\" class=\"dataframe\">\n",
       "  <thead>\n",
       "    <tr style=\"text-align: right;\">\n",
       "      <th></th>\n",
       "      <th>Filename</th>\n",
       "      <th>Text</th>\n",
       "      <th>title</th>\n",
       "      <th>department</th>\n",
       "      <th>doi</th>\n",
       "      <th>cleaned_text</th>\n",
       "      <th>clean_text_without_stopwords</th>\n",
       "    </tr>\n",
       "  </thead>\n",
       "  <tbody>\n",
       "    <tr>\n",
       "      <th>0</th>\n",
       "      <td>A-BirdsEye-View-over-Sydney-Animal-Imagery-in-...</td>\n",
       "      <td>Alicante Journal of English Studies, Issue 38,...</td>\n",
       "      <td>A BirdsEye View over Sydney Animal Imagery in ...</td>\n",
       "      <td>Universidad de Alicante</td>\n",
       "      <td>None</td>\n",
       "      <td>alicante journal of english studies issue   pa...</td>\n",
       "      <td>alicante journal english studies issue pages a...</td>\n",
       "    </tr>\n",
       "    <tr>\n",
       "      <th>1</th>\n",
       "      <td>A-Brief-History-of-the-Theory-and-Practice-of-...</td>\n",
       "      <td>e-ISSN 2724-3923 magazén Vol. 1 – Num. 2 – Dec...</td>\n",
       "      <td>A Brief History of the Theory and Practice of ...</td>\n",
       "      <td>None</td>\n",
       "      <td>DOI 10.30687/mag/2724-3923/2020/02/002</td>\n",
       "      <td>eissn  magazn vol   num   december   citation ...</td>\n",
       "      <td>eissn magazn vol num december citation beausan...</td>\n",
       "    </tr>\n",
       "    <tr>\n",
       "      <th>2</th>\n",
       "      <td>A-Comparative-Study-of-the-Anthropocene-Factor...</td>\n",
       "      <td>Full Terms &amp; Conditions of access and use can ...</td>\n",
       "      <td>A Comparative Study of the Anthropocene Factor...</td>\n",
       "      <td>Informa Healthcare</td>\n",
       "      <td>DOI: 10.1080/25723618.2023.2237369</td>\n",
       "      <td>full terms  conditions of access and use can b...</td>\n",
       "      <td>full terms conditions access use found httpsww...</td>\n",
       "    </tr>\n",
       "    <tr>\n",
       "      <th>3</th>\n",
       "      <td>A-Comparison-of-English-Acehnese-and-Indonesia...</td>\n",
       "      <td>1146 | Studies in English Language and Educati...</td>\n",
       "      <td>A Comparison of English Acehnese and Indonesia...</td>\n",
       "      <td>Syiah Kuala University</td>\n",
       "      <td>None</td>\n",
       "      <td>studies in english language and education   ...</td>\n",
       "      <td>studies english language education pissn eissn...</td>\n",
       "    </tr>\n",
       "    <tr>\n",
       "      <th>4</th>\n",
       "      <td>A-Comparison-of-Nishidas-basho-from-his-Middle...</td>\n",
       "      <td>71 DOI: 10.4312/as.2023.11.1.71-90 A Compariso...</td>\n",
       "      <td>A Comparison of Nishidas basho from his Middle...</td>\n",
       "      <td>University of Ljubljana Press</td>\n",
       "      <td>DOI: 10.4312/as.2023.11.1.71-90</td>\n",
       "      <td>doi as a comparison of nishidas basho from hi...</td>\n",
       "      <td>doi comparison nishidas basho middle period pl...</td>\n",
       "    </tr>\n",
       "  </tbody>\n",
       "</table>\n",
       "</div>"
      ],
      "text/plain": [
       "                                            Filename  \\\n",
       "0  A-BirdsEye-View-over-Sydney-Animal-Imagery-in-...   \n",
       "1  A-Brief-History-of-the-Theory-and-Practice-of-...   \n",
       "2  A-Comparative-Study-of-the-Anthropocene-Factor...   \n",
       "3  A-Comparison-of-English-Acehnese-and-Indonesia...   \n",
       "4  A-Comparison-of-Nishidas-basho-from-his-Middle...   \n",
       "\n",
       "                                                Text  \\\n",
       "0  Alicante Journal of English Studies, Issue 38,...   \n",
       "1  e-ISSN 2724-3923 magazén Vol. 1 – Num. 2 – Dec...   \n",
       "2  Full Terms & Conditions of access and use can ...   \n",
       "3  1146 | Studies in English Language and Educati...   \n",
       "4  71 DOI: 10.4312/as.2023.11.1.71-90 A Compariso...   \n",
       "\n",
       "                                               title  \\\n",
       "0  A BirdsEye View over Sydney Animal Imagery in ...   \n",
       "1  A Brief History of the Theory and Practice of ...   \n",
       "2  A Comparative Study of the Anthropocene Factor...   \n",
       "3  A Comparison of English Acehnese and Indonesia...   \n",
       "4  A Comparison of Nishidas basho from his Middle...   \n",
       "\n",
       "                       department                                     doi  \\\n",
       "0         Universidad de Alicante                                    None   \n",
       "1                            None  DOI 10.30687/mag/2724-3923/2020/02/002   \n",
       "2              Informa Healthcare      DOI: 10.1080/25723618.2023.2237369   \n",
       "3          Syiah Kuala University                                    None   \n",
       "4   University of Ljubljana Press         DOI: 10.4312/as.2023.11.1.71-90   \n",
       "\n",
       "                                        cleaned_text  \\\n",
       "0  alicante journal of english studies issue   pa...   \n",
       "1  eissn  magazn vol   num   december   citation ...   \n",
       "2  full terms  conditions of access and use can b...   \n",
       "3    studies in english language and education   ...   \n",
       "4   doi as a comparison of nishidas basho from hi...   \n",
       "\n",
       "                        clean_text_without_stopwords  \n",
       "0  alicante journal english studies issue pages a...  \n",
       "1  eissn magazn vol num december citation beausan...  \n",
       "2  full terms conditions access use found httpsww...  \n",
       "3  studies english language education pissn eissn...  \n",
       "4  doi comparison nishidas basho middle period pl...  "
      ]
     },
     "execution_count": 19,
     "metadata": {},
     "output_type": "execute_result"
    }
   ],
   "source": [
    "import pandas as pd\n",
    "from nltk.corpus import stopwords\n",
    "from nltk.tokenize import word_tokenize\n",
    "\n",
    "# Download Stopwords\n",
    "import nltk\n",
    "nltk.download('stopwords')\n",
    "nltk.download('punkt')\n",
    "\n",
    "# Define a function to remove stop words\n",
    "def remove_stopwords(text):\n",
    "    stop_words = set(stopwords.words('english'))\n",
    "    words = word_tokenize(text)\n",
    "    filtered_words = [word for word in words if word.lower() not in stop_words]\n",
    "    return ' '.join(filtered_words)\n",
    "\n",
    "# apply function and create a new column\n",
    "journal_df['clean_text_without_stopwords'] = journal_df['cleaned_text'].apply(remove_stopwords)\n",
    "\n",
    "journal_df.head()\n"
   ]
  },
  {
   "cell_type": "markdown",
   "id": "289e71de",
   "metadata": {},
   "source": [
    "b) write functions to display the word frequency"
   ]
  },
  {
   "cell_type": "code",
   "execution_count": 20,
   "id": "3eefb221",
   "metadata": {},
   "outputs": [
    {
     "data": {
      "text/plain": [
       "0       {'alicante': 17, 'journal': 18, 'english': 18,...\n",
       "1       {'eissn': 21, 'magazn': 22, 'vol': 1, 'num': 1...\n",
       "2       {'full': 5, 'terms': 4, 'conditions': 2, 'acce...\n",
       "3       {'studies': 26, 'english': 248, 'language': 63...\n",
       "4       {'doi': 1, 'comparison': 19, 'nishidas': 68, '...\n",
       "                              ...                        \n",
       "1067    {'gema': 18, 'online': 18, 'journal': 21, 'lan...\n",
       "1068    {'literatura': 8, 'teora': 8, 'historia': 8, '...\n",
       "1069    {'es': 24, 'review': 24, 'spanish': 24, 'journ...\n",
       "1070    {'james': 27, 'baldwin': 51, 'review': 10, 'vo...\n",
       "1071    {'servicio': 31, 'de': 86, 'publicaciones': 31...\n",
       "Name: word_freq, Length: 1072, dtype: object"
      ]
     },
     "execution_count": 20,
     "metadata": {},
     "output_type": "execute_result"
    }
   ],
   "source": [
    "import pandas as pd\n",
    "from collections import Counter\n",
    "import matplotlib.pyplot as plt\n",
    "from nltk.tokenize import word_tokenize\n",
    "\n",
    "# define a function to count word frequency\n",
    "def word_frequency(text):\n",
    "    words = word_tokenize(text)\n",
    "    word_freq = Counter(words)\n",
    "    return word_freq\n",
    "\n",
    "# apply the function and create a new column called word_freq\n",
    "journal_df['word_freq'] = journal_df['clean_text_without_stopwords'].apply(word_frequency)\n",
    "journal_df['word_freq']"
   ]
  },
  {
   "cell_type": "markdown",
   "id": "5b95c6f2-9e8f-4671-8f56-f4a2fb3f5671",
   "metadata": {},
   "source": [
    "c) Through the word_freq, we can see some words that are not in English, let's update stopwords."
   ]
  },
  {
   "cell_type": "code",
   "execution_count": 23,
   "id": "c2f75819",
   "metadata": {},
   "outputs": [
    {
     "name": "stdout",
     "output_type": "stream",
     "text": [
      "de: 155706\n",
      "la: 82823\n",
      "en: 60220\n",
      "que: 53760\n",
      "el: 48011\n",
      "los: 27000\n",
      "se: 24000\n",
      "del: 23872\n",
      "e: 22729\n",
      "language: 21778\n",
      "also: 21763\n",
      "one: 21271\n",
      "las: 20421\n",
      "p: 18306\n",
      "new: 18234\n",
      "por: 17881\n",
      "english: 17853\n",
      "un: 16681\n",
      "pp: 15991\n",
      "con: 15325\n",
      "al: 15300\n",
      "una: 15210\n",
      "como: 15175\n",
      "university: 14546\n",
      "studies: 14102\n",
      "para: 13326\n",
      "two: 12848\n",
      "journal: 12364\n",
      "first: 12021\n",
      "time: 11775\n",
      "es: 11702\n",
      "world: 11637\n",
      "research: 11551\n",
      "su: 10961\n",
      "social: 10654\n",
      "american: 10068\n",
      "press: 9906\n",
      "different: 9836\n",
      "life: 9612\n",
      "vol: 9561\n",
      "literature: 9490\n",
      "used: 9338\n",
      "use: 9315\n",
      "et: 9265\n",
      "work: 9129\n",
      "however: 8998\n",
      "writing: 8998\n",
      "would: 8986\n",
      "text: 8909\n",
      "words: 8812\n",
      "study: 8773\n",
      "like: 8723\n",
      "human: 8666\n",
      "may: 8652\n",
      "way: 8587\n",
      "analysis: 8568\n",
      "students: 8567\n",
      "lo: 8536\n",
      "see: 8508\n",
      "translation: 8234\n",
      "even: 8189\n",
      "da: 8029\n",
      "online: 7982\n",
      "us: 7981\n",
      "well: 7758\n",
      "l: 7680\n",
      "narrative: 7661\n",
      "cultural: 7564\n",
      "corpus: 7416\n",
      "history: 7365\n",
      "ms: 7304\n",
      "could: 7244\n",
      "people: 7199\n",
      "novel: 7043\n",
      "literary: 6898\n",
      "c: 6894\n",
      "nature: 6734\n",
      "thus: 6537\n",
      "texts: 6515\n",
      "v: 6424\n",
      "discourse: 6359\n",
      "em: 6353\n",
      "part: 6200\n",
      "b: 6192\n",
      "book: 6163\n",
      "political: 6098\n",
      "many: 6060\n",
      "women: 6053\n",
      "learning: 6043\n",
      "x: 6008\n",
      "within: 5987\n",
      "since: 5924\n",
      "another: 5833\n",
      "context: 5825\n",
      "form: 5819\n",
      "n: 5790\n",
      "york: 5750\n",
      "historical: 5694\n",
      "place: 5682\n",
      "london: 5672\n"
     ]
    }
   ],
   "source": [
    "from collections import Counter\n",
    "import re\n",
    "from nltk.corpus import stopwords\n",
    "\n",
    "stopwords_list = set(stopwords.words(\"english\"))\n",
    "\n",
    "total_word_freq = Counter()\n",
    "for text in journal_df['word_freq']:\n",
    "    # Check if 'text' is a Counter object, and if so, convert it to a space-separated string\n",
    "    if isinstance(text, Counter):\n",
    "        text = ' '.join(text.elements())\n",
    "\n",
    "    \n",
    "    cleaned_text = re.sub(r'[^a-zA-Z\\s]', '', text)\n",
    "    words = cleaned_text.lower().split()\n",
    "    filtered_words = [word for word in words if word not in stopwords_list]\n",
    "    total_word_freq.update(filtered_words)\n",
    "\n",
    "# Get top 100\n",
    "top_words = total_word_freq.most_common(100)\n",
    "\n",
    "# print top 100 words and their frequncies\n",
    "for word, freq in top_words:\n",
    "    print(f\"{word}: {freq}\")\n"
   ]
  },
  {
   "cell_type": "markdown",
   "id": "b540105e",
   "metadata": {},
   "source": [
    "d) As we can see, there are a lot of meaningless words here, so we need to manually update the stopwords, delete them until they are meaningful for our study."
   ]
  },
  {
   "cell_type": "code",
   "execution_count": 24,
   "id": "5bdb122e",
   "metadata": {},
   "outputs": [
    {
     "name": "stdout",
     "output_type": "stream",
     "text": [
      "time: 11775\n",
      "world: 11637\n",
      "research: 11551\n",
      "social: 10654\n",
      "american: 10068\n",
      "press: 9906\n",
      "different: 9836\n",
      "life: 9612\n",
      "literature: 9490\n",
      "use: 9315\n",
      "work: 9129\n",
      "writing: 8998\n",
      "text: 8909\n",
      "words: 8812\n",
      "study: 8773\n",
      "human: 8666\n",
      "way: 8587\n",
      "analysis: 8568\n",
      "students: 8567\n",
      "translation: 8234\n",
      "online: 7982\n",
      "narrative: 7661\n",
      "cultural: 7564\n",
      "corpus: 7416\n",
      "history: 7365\n",
      "people: 7199\n",
      "novel: 7043\n",
      "literary: 6898\n",
      "nature: 6734\n",
      "thus: 6537\n",
      "texts: 6515\n",
      "discourse: 6359\n",
      "part: 6200\n",
      "book: 6163\n",
      "political: 6098\n",
      "many: 6060\n",
      "women: 6053\n",
      "learning: 6043\n",
      "within: 5987\n",
      "since: 5924\n",
      "another: 5833\n",
      "context: 5825\n",
      "form: 5819\n",
      "york: 5750\n",
      "historical: 5694\n",
      "place: 5682\n",
      "london: 5672\n",
      "example: 5665\n",
      "present: 5607\n",
      "identity: 5566\n",
      "culture: 5468\n",
      "black: 5425\n",
      "article: 5373\n",
      "terms: 5346\n",
      "sense: 5335\n",
      "rather: 5307\n",
      "around: 5249\n",
      "case: 5219\n",
      "author: 5217\n",
      "order: 5149\n",
      "role: 5120\n",
      "works: 5104\n",
      "word: 5044\n",
      "experience: 5010\n",
      "fact: 4991\n",
      "space: 4971\n",
      "knowledge: 4956\n",
      "characters: 4935\n",
      "years: 4882\n",
      "process: 4869\n",
      "published: 4851\n",
      "questions: 4851\n",
      "meaning: 4840\n",
      "story: 4837\n",
      "make: 4826\n",
      "man: 4798\n",
      "second: 4788\n",
      "according: 4751\n",
      "power: 4677\n",
      "therefore: 4665\n",
      "point: 4629\n",
      "cambridge: 4619\n",
      "reading: 4618\n",
      "made: 4572\n",
      "among: 4549\n",
      "education: 4494\n",
      "body: 4492\n",
      "past: 4490\n",
      "issue: 4483\n",
      "narratives: 4475\n",
      "figure: 4460\n",
      "society: 4400\n",
      "state: 4385\n",
      "fiction: 4329\n",
      "data: 4329\n",
      "authors: 4290\n",
      "important: 4281\n",
      "public: 4275\n",
      "art: 4266\n",
      "century: 4253\n"
     ]
    }
   ],
   "source": [
    "custom_stopwords = set([\"language\", \"also\", \"one\", \"new\", \"p\", \"pp\", \"et\", \"al\", \"us\", \"however\", \"like\", \"could\", \"may\", \"even\", \"well\", \"would\", \"see\", \"etc\",\"de\",\"la\",\"en\",\"que\",\"el\",\"los\",\"se\",\"del\",\"e\",\"las\",\"por\",\"un\",\"con\",\"una\",\"como\",\"para\",\"two\",\"es\",\"su\",\"vol\",\"lo\",\"da\",\"l\",\"ms\",\"c\",\"v\",\"em\"\n",
    "                       \"b\",\"x\",\"n\",\"b\",\"este\",\"ed\",\"j\",\"bas\",\"entie\",\"sobre\",\"three\",\"entre\",\"doi\",\"issn\",\"r\",\"english\",\"university\",\"studies\",\"journal\",\"first\",\"used\",\"use\"\n",
    "                       \"time\",\"xxix\",\"dos\",\"although\",\"might\",\"em\",\"esta\"])\n",
    "stopwords_list.update(custom_stopwords)\n",
    "\n",
    "\n",
    "\n",
    "total_word_freq = Counter()\n",
    "for text in journal_df['word_freq']:\n",
    "    if isinstance(text, Counter):\n",
    "        text = ' '.join(text.elements())\n",
    "    \n",
    "    cleaned_text = re.sub(r'[^a-zA-Z\\s]', '', text)\n",
    "    words = cleaned_text.lower().split()\n",
    "    filtered_words = [word for word in words if word not in stopwords_list]\n",
    "    total_word_freq.update(filtered_words)\n",
    "\n",
    "\n",
    "top_words = total_word_freq.most_common(100)\n",
    "\n",
    "for word, freq in top_words:\n",
    "    print(f\"{word}: {freq}\")\n"
   ]
  },
  {
   "cell_type": "markdown",
   "id": "e591428a-31b8-4e6e-9ef0-a554debacb06",
   "metadata": {},
   "source": [
    "e) We can now use wordcloud to show word frequency clearly and visually."
   ]
  },
  {
   "cell_type": "code",
   "execution_count": 25,
   "id": "03b74026-933f-467a-8da4-6c00c4e724d7",
   "metadata": {},
   "outputs": [
    {
     "data": {
      "image/png": "[encoded data removed]",
      "text/plain": [
       "<Figure size 1000x500 with 1 Axes>"
      ]
     },
     "metadata": {},
     "output_type": "display_data"
    }
   ],
   "source": [
    "#pip install wordcloud (you need to pip install wordcloud)\n",
    "from wordcloud import WordCloud\n",
    "wordcloud = WordCloud(width=800, height=400, max_words=100, background_color='white').generate_from_frequencies(total_word_freq)\n",
    "\n",
    "plt.figure(figsize=(10, 5))\n",
    "plt.imshow(wordcloud, interpolation='bilinear')\n",
    "plt.axis('off')\n",
    "plt.show()"
   ]
  },
  {
   "cell_type": "markdown",
   "id": "ea4dc1db",
   "metadata": {},
   "source": [
    "f) Now we could try to count the total words and then calculate the ratio.\n",
    "For example, we could use the most frequent word \"time\" to apply on every row to caculate the ratio"
   ]
  },
  {
   "cell_type": "code",
   "execution_count": 29,
   "id": "d62954f1",
   "metadata": {},
   "outputs": [
    {
     "data": {
      "text/plain": [
       "0       1894\n",
       "1       2299\n",
       "2       2070\n",
       "3       1145\n",
       "4       1731\n",
       "        ... \n",
       "1067    1179\n",
       "1068    1480\n",
       "1069    2323\n",
       "1070    1291\n",
       "1071    1897\n",
       "Name: word_count, Length: 1072, dtype: int64"
      ]
     },
     "execution_count": 29,
     "metadata": {},
     "output_type": "execute_result"
    }
   ],
   "source": [
    "# define a function\n",
    "def count_unique_words(word_freq):\n",
    "    return len(word_freq)\n",
    "\n",
    "# 假设 'word_freq' 列包含 Counter 对象\n",
    "journal_df['word_count'] = journal_df['word_freq'].apply(count_unique_words)\n",
    "journal_df['word_count']\n"
   ]
  },
  {
   "cell_type": "code",
   "execution_count": 34,
   "id": "c8bb9bc5",
   "metadata": {},
   "outputs": [
    {
     "data": {
      "text/plain": [
       "0       0.000528\n",
       "1       0.003480\n",
       "2       0.005797\n",
       "3       0.000873\n",
       "4       0.002311\n",
       "          ...   \n",
       "1067    0.002545\n",
       "1068    0.008108\n",
       "1069    0.003013\n",
       "1070    0.013168\n",
       "1071    0.002636\n",
       "Name: time_ratio, Length: 1072, dtype: float64"
      ]
     },
     "execution_count": 34,
     "metadata": {},
     "output_type": "execute_result"
    }
   ],
   "source": [
    "result_df = pd.DataFrame()\n",
    "def count_word_occurrences(word_freq, target_word):\n",
    "    return word_freq.get(target_word, 0)\n",
    "\n",
    "target_word = \"time\"\n",
    "result_df['time_occurrences'] = journal_df['word_freq'].apply(lambda x: count_word_occurrences(x, target_word))\n",
    "result_df['word_count'] = journal_df['word_count']\n",
    "\n",
    "result_df['time_ratio'] = result_df['time_occurrences'] / result_df['word_count']\n",
    "result_df['time_ratio']"
   ]
  },
  {
   "cell_type": "markdown",
   "id": "0a040b19-8ddd-44c3-836e-b93e46d68bf3",
   "metadata": {},
   "source": [
    "We can also draw a scatter plot for these data to make them more visual."
   ]
  },
  {
   "cell_type": "code",
   "execution_count": 38,
   "id": "e825815e",
   "metadata": {},
   "outputs": [
    {
     "data": {
      "image/png": "[encoded data removed]",
      "text/plain": [
       "<Figure size 640x480 with 1 Axes>"
      ]
     },
     "metadata": {},
     "output_type": "display_data"
    }
   ],
   "source": [
    "import seaborn as sns\n",
    "\n",
    "result_df['ID'] = result_df.reset_index().index + 1\n",
    "\n",
    "sns.scatterplot(x='ID', y='time_ratio', data=result_df, marker='o')\n",
    "\n",
    "plt.title('Scatter plot for \"time\" Ratio')\n",
    "plt.xlabel('ID')\n",
    "plt.ylabel('time Ratio')\n",
    "\n",
    "plt.show()\n",
    "\n"
   ]
  },
  {
   "cell_type": "markdown",
   "id": "028fbb9a-c737-4e4a-a1ff-1989c8bfffaa",
   "metadata": {},
   "source": [
    "Also, we can use TF-IDF in this project.\n",
    "\n",
    "TF-IDF (Term Frequency-Inverse Document Frequency) is a statistical method used to evaluate the importance of a word in a document set. It is a feature extraction technique commonly used in the field of information retrieval and text mining.\n",
    "\n",
    "\n",
    "The calculation of TF-IDF is based on two core concep:1.\n",
    "\n",
    "\n",
    "\n",
    "Term Frequency: Indicates how often a word appears in a document. The higher the TF value, the more important the word is in the ：\n",
    "\n",
    "*TF(t,d)= \n",
    "Total number of terms in document  /\n",
    "Number of occurrences of term t in document* d\n",
    "2.​\n",
    "\n",
    "Inverse Document Frequency (IDF): Measure the importance of a word in the overall document set. The higher the IDF value, the lower the importance of the term in the overall documentation:s\n",
    "\n",
    "*IDF(t,D)=log(\n",
    "Total number of documents in collection / Number of documents containing term t+1)*\n",
    "\n",
    "\n",
    "The final TF-IDF value is the product of TF \n",
    "*and IDF\n",
    "TF-IDF(t,d,D)=TF(t,d)×*IDF(t,D)document"
   ]
  },
  {
   "cell_type": "code",
   "execution_count": 40,
   "id": "18495f83",
   "metadata": {},
   "outputs": [
    {
     "name": "stdout",
     "output_type": "stream",
     "text": [
      "Requirement already satisfied: scikit-learn in c:\\users\\cathy\\anaconda3\\lib\\site-packages (1.3.0)\n",
      "Requirement already satisfied: numpy>=1.17.3 in c:\\users\\cathy\\anaconda3\\lib\\site-packages (from scikit-learn) (1.24.3)\n",
      "Requirement already satisfied: scipy>=1.5.0 in c:\\users\\cathy\\anaconda3\\lib\\site-packages (from scikit-learn) (1.10.1)\n",
      "Requirement already satisfied: joblib>=1.1.1 in c:\\users\\cathy\\anaconda3\\lib\\site-packages (from scikit-learn) (1.2.0)\n",
      "Requirement already satisfied: threadpoolctl>=2.0.0 in c:\\users\\cathy\\anaconda3\\lib\\site-packages (from scikit-learn) (2.2.0)\n",
      "Note: you may need to restart the kernel to use updated packages.\n"
     ]
    }
   ],
   "source": [
    "pip install scikit-learn"
   ]
  },
  {
   "cell_type": "markdown",
   "id": "a452e172-2fd2-46cc-8b54-3dd96c9fd664",
   "metadata": {},
   "source": [
    "We first need to apply the new stoplists(what we have updated) to cleaned_text. Then caculate the TF-IDF value."
   ]
  },
  {
   "cell_type": "code",
   "execution_count": 47,
   "id": "c1bafe3e-a6d4-493b-90d1-7c6363a8d174",
   "metadata": {},
   "outputs": [
    {
     "name": "stdout",
     "output_type": "stream",
     "text": [
      "0    alicante issue pages alicante revista alicanti...\n",
      "1    eissn magazn num december citation beausang br...\n",
      "2    full terms conditions access use found httpsww...\n",
      "3    education pissn eissn comparison acehnese indo...\n",
      "4    comparison nishidas basho middle period platos...\n",
      "Name: cleaned_text, dtype: object\n"
     ]
    }
   ],
   "source": [
    "journal_df['cleaned_text'] = journal_df['cleaned_text'].apply(lambda x: ' '.join([word for word in x.split() if word.lower() not in stopwords_list]))\n",
    "\n",
    "# Print the first few rows to check the result\n",
    "print(journal_df['cleaned_text'].head())\n"
   ]
  },
  {
   "cell_type": "code",
   "execution_count": 48,
   "id": "1bec8e6a",
   "metadata": {},
   "outputs": [
    {
     "name": "stdout",
     "output_type": "stream",
     "text": [
      "Top 10 words with highest TF-IDF scores:\n",
      "students       17.478202\n",
      "american       15.816648\n",
      "world          14.706175\n",
      "translation    14.384711\n",
      "writing        14.162745\n",
      "research       14.033960\n",
      "literature     13.807045\n",
      "social         13.596250\n",
      "time           12.620441\n",
      "learning       12.336363\n",
      "human          11.861210\n",
      "study          11.716895\n",
      "life           11.709119\n",
      "women          11.482888\n",
      "online         11.229262\n",
      "text           11.167329\n",
      "press          11.143615\n",
      "use            11.051610\n",
      "chinese        11.028762\n",
      "bakhtiniana    11.005383\n",
      "dtype: float64\n"
     ]
    }
   ],
   "source": [
    "from sklearn.feature_extraction.text import TfidfVectorizer\n",
    "\n",
    "documents = journal_df['cleaned_text'].tolist()\n",
    "\n",
    "# Create TF-IDF vectorizer\n",
    "tfidf_vectorizer = TfidfVectorizer()\n",
    "\n",
    "# Fit and transform the documents\n",
    "tfidf_matrix = tfidf_vectorizer.fit_transform(documents)\n",
    "\n",
    "# Get vocabulary and TF-IDF matrix\n",
    "vocab = tfidf_vectorizer.get_feature_names_out()\n",
    "dense_matrix = tfidf_matrix.toarray()\n",
    "\n",
    "# Create DataFrame with TF-IDF scores\n",
    "df_tfidf = pd.DataFrame(dense_matrix, columns=vocab)\n",
    "\n",
    "# Sum the TF-IDF scores for each word across all documents\n",
    "total_tfidf_scores = df_tfidf.sum()\n",
    "\n",
    "# Find the top 10 words with the highest total TF-IDF scores\n",
    "top_10_words = total_tfidf_scores.nlargest(20)\n",
    "\n",
    "# Print the result\n",
    "print(\"Top 10 words with highest TF-IDF scores:\")\n",
    "print(top_10_words)\n"
   ]
  },
  {
   "cell_type": "markdown",
   "id": "1105761c-9180-41d1-9c08-e7dab0c4ae63",
   "metadata": {},
   "source": [
    "By counting the word frequency and TF-IDF, we can derive a partial list of words, which also represent the more important (high-frequency) words in these articles. In terms of topic trends and preferences, we observe that the most frequent topics in English literary journals in 2023 are translation, writing, social and so on. In addition, we found some emerging themes, such as \"women\", which indicates a growing interest in feminism in the academic community.\n",
    "However, we must also admit limitations of word frequency analysis in this kind of research. For example, word frequency analysis usually ignores the context of words, so certain difficulties may be encountered in identifying topics. The same keywords may have different meanings in different contexts, and this ambiguity is difficult to solve in word frequency analysis."
   ]
  },
  {
   "cell_type": "markdown",
   "id": "b4ab3aa1-826c-446a-9d63-a04aefc392ab",
   "metadata": {},
   "source": [
    "### Active Learning Exercises"
   ]
  },
  {
   "cell_type": "markdown",
   "id": "87471846-3871-4992-8aec-3c7cc3f71f34",
   "metadata": {},
   "source": [
    "Apart from the above exercises, we could also use these texts to practice Sentiment Analysis, so that find out what kind of emotional bias do literature and literary theory journals in English generally possess in 2023.\n",
    "\n",
    "First, Import NLTK and Download Necessary Resources:"
   ]
  },
  {
   "cell_type": "code",
   "execution_count": null,
   "id": "4738ea0c-dc21-4f41-bfe6-bea6766f7f60",
   "metadata": {},
   "outputs": [],
   "source": [
    "import nltk\n",
    "from nltk.sentiment import SentimentIntensityAnalyzer\n",
    "\n",
    "# Download the VADER lexicon for sentiment analysis\n",
    "nltk.download('vader_lexicon')"
   ]
  },
  {
   "cell_type": "markdown",
   "id": "ad9894a1-8de7-4687-8062-b2b7a9048cdc",
   "metadata": {},
   "source": [
    "Initialize the Sentiment Intensity Analyzer:\n",
    "Create an instance of the SentimentIntensityAnalyzer:"
   ]
  },
  {
   "cell_type": "code",
   "execution_count": null,
   "id": "a64453f2-56a9-422d-ae58-eedc0dcf53d7",
   "metadata": {},
   "outputs": [],
   "source": [
    "sia = SentimentIntensityAnalyzer()"
   ]
  },
  {
   "cell_type": "markdown",
   "id": "22f96aa6-173b-41ed-91b6-6c3aa9266bd1",
   "metadata": {},
   "source": [
    "Apply Sentiment Analysis to DataFrame:\n",
    "Apply the sentiment analysis to each row in the 'cleaned_text column\n",
    "\n",
    "(The 'compound' score is a compound sentiment score that ranges from -1 (most negative) to 1 (most positive).):"
   ]
  },
  {
   "cell_type": "code",
   "execution_count": null,
   "id": "c22cb6d6-3d39-47ab-83fb-2212ddf76327",
   "metadata": {},
   "outputs": [],
   "source": [
    "# write your code here = journal_df['cleaned_text'].apply(lambda x: sia.polarity_scores(x)['compound'])"
   ]
  },
  {
   "cell_type": "markdown",
   "id": "d540ab5d-3449-4f76-acb6-dbf68907b536",
   "metadata": {},
   "source": [
    "Now you could create a new column called sentiment into journal_df and store the score."
   ]
  },
  {
   "cell_type": "code",
   "execution_count": null,
   "id": "8cc7596f-a319-47f5-952e-e9f0dc609a9b",
   "metadata": {},
   "outputs": [],
   "source": [
    "# write your code here"
   ]
  },
  {
   "cell_type": "markdown",
   "id": "b63bd410-65a9-476e-9a4c-35f8153568b3",
   "metadata": {},
   "source": [
    "-1 indicates the most negative emotion.\n",
    "\n",
    "1 indicates the most positive emotion.\n",
    "\n",
    "0 is neutual\n",
    "\n",
    "Now you can count how many positive, how many negative, and how many neutral there are in the journal df."
   ]
  },
  {
   "cell_type": "code",
   "execution_count": null,
   "id": "d191129d-ba71-4cb8-9e78-1f14d489b12e",
   "metadata": {},
   "outputs": [],
   "source": [
    "# write your code here"
   ]
  },
  {
   "cell_type": "markdown",
   "id": "cfdf9e21-710b-4cf1-9cbe-6fbab79294a2",
   "metadata": {},
   "source": [
    "Finally, Download the dataframe as a CSV (metadata)\n",
    "First, you can also select partial columns.(If you do not need all the columns)"
   ]
  },
  {
   "cell_type": "code",
   "execution_count": null,
   "id": "18278633-6da5-4de4-8adf-7ede4a7a7ed9",
   "metadata": {},
   "outputs": [],
   "source": [
    "# write your code here \n",
    "selected_columns = ['column1', 'column2', 'column3']"
   ]
  },
  {
   "cell_type": "code",
   "execution_count": null,
   "id": "43ab44a9-2e25-4820-a917-6c89deb5464d",
   "metadata": {},
   "outputs": [],
   "source": [
    "selected_data = journal_df[selected_columns]"
   ]
  },
  {
   "cell_type": "code",
   "execution_count": null,
   "id": "17e518b1-e76d-4d7c-9916-ed5402df8061",
   "metadata": {},
   "outputs": [],
   "source": [
    "selected_data.to_csv('metadata.csv', index=False)"
   ]
  },
  {
   "cell_type": "markdown",
   "id": "c46c0615",
   "metadata": {},
   "source": [
    "References\n",
    "\n",
    "Chaudhary, K. (2020). Sentiment analysis with python: TFIDF features. Drops of AI. Retrieved January 17, 2023, from https://dropsofai.com/sentiment-analysis-with-python-tfidf-features/\n",
    "\n",
    "\n",
    "Qaiser, S., & Ali, R. (2018). Text Mining: Use of TF-IDF to Examine the Relevance of Words to Documents. International Journal of Computer Applications, 181(1), 25–29. https://doi.org/10.5120/ijca2018917395\n",
    "\n",
    "Scopus. https://www.scopus.com/home.uri\n"
   ]
  }
 ],
 "metadata": {
  "kernelspec": {
   "display_name": "Python 3 (ipykernel)",
   "language": "python",
   "name": "python3"
  },
  "language_info": {
   "codemirror_mode": {
    "name": "ipython",
    "version": 3
   },
   "file_extension": ".py",
   "mimetype": "text/x-python",
   "name": "python",
   "nbconvert_exporter": "python",
   "pygments_lexer": "ipython3",
   "version": "3.11.4"
  }
 },
 "nbformat": 4,
 "nbformat_minor": 5
}
